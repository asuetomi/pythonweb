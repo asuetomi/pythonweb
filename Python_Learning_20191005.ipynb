{
 "cells": [
  {
   "cell_type": "markdown",
   "metadata": {},
   "source": [
    "# Python 技術研修 第４回\n",
    "2019-10-05 @7F-1\n",
    "池澤先生"
   ]
  },
  {
   "cell_type": "markdown",
   "metadata": {},
   "source": [
    "## 演習"
   ]
  },
  {
   "cell_type": "markdown",
   "metadata": {},
   "source": [
    "## データベースのインストール\n",
    "mysql をインストールする\n",
    "\n",
    "- SREATE DATABASE pythonTest;\n",
    "- show databases\n",
    "- CREATE USER 'test'@'localhost' IDENTIFIED BY 'test';\n",
    "- use pythonTest\n",
    "- create table test(id int not null auto_increment primary key, name varcgar(256));\n",
    "- insert into test (name) values ('testdata');\n",
    "- insert into test values ('testdata');\n",
    "- select * from test;\n",
    "- select id, name from test;\n",
    "\n"
   ]
  },
  {
   "cell_type": "markdown",
   "metadata": {},
   "source": [
    "### Python からのアクセス\n",
    "- python -m pip install --upgrade pip\n",
    "- pip install mysqclient"
   ]
  },
  {
   "cell_type": "code",
   "execution_count": null,
   "metadata": {},
   "outputs": [],
   "source": []
  }
 ],
 "metadata": {
  "kernelspec": {
   "display_name": "Python 3",
   "language": "python",
   "name": "python3"
  },
  "language_info": {
   "codemirror_mode": {
    "name": "ipython",
    "version": 3
   },
   "file_extension": ".py",
   "mimetype": "text/x-python",
   "name": "python",
   "nbconvert_exporter": "python",
   "pygments_lexer": "ipython3",
   "version": "3.6.8"
  }
 },
 "nbformat": 4,
 "nbformat_minor": 2
}
